{
  "nbformat": 4,
  "nbformat_minor": 0,
  "metadata": {
    "colab": {
      "name": "Main.ipynb",
      "provenance": [],
      "collapsed_sections": [],
      "toc_visible": true,
      "include_colab_link": true
    },
    "kernelspec": {
      "name": "python3",
      "display_name": "Python 3"
    },
    "accelerator": "GPU"
  },
  "cells": [
    {
      "cell_type": "markdown",
      "metadata": {
        "id": "view-in-github",
        "colab_type": "text"
      },
      "source": [
        "<a href=\"https://colab.research.google.com/github/Suaif/Video_descriptor/blob/master/Main.ipynb\" target=\"_parent\"><img src=\"https://colab.research.google.com/assets/colab-badge.svg\" alt=\"Open In Colab\"/></a>"
      ]
    },
    {
      "cell_type": "markdown",
      "metadata": {
        "id": "Iu5DapTJMSih",
        "colab_type": "text"
      },
      "source": [
        "# Step 0. Import of our own module.\n",
        "\n",
        "Throughout the project we have found that many of the functions occupy a large part of the project, making the code invisible and disorganizing it in some way..Therefore, we have created a separate document where all the functions that we will use will be, we will import this document as a new module, this way we will have access to these functions without them appearing explicitly in the main document."
      ]
    },
    {
      "cell_type": "markdown",
      "metadata": {
        "id": "cv48tqqbLrSm",
        "colab_type": "text"
      },
      "source": [
        "\n",
        "`*Import OurOwnFunctions.ipynb with all the functions.*`"
      ]
    },
    {
      "cell_type": "code",
      "metadata": {
        "id": "Zfxhv0Vrs4AZ",
        "colab_type": "code",
        "colab": {
          "base_uri": "https://localhost:8080/",
          "height": 122
        },
        "outputId": "e518e1ad-4843-492c-d1d0-dc0801c1cd87"
      },
      "source": [
        "from google.colab import drive\n",
        "drive.mount('/content/drive')"
      ],
      "execution_count": null,
      "outputs": [
        {
          "output_type": "stream",
          "text": [
            "Go to this URL in a browser: https://accounts.google.com/o/oauth2/auth?client_id=947318989803-6bn6qk8qdgf4n4g3pfee6491hc0brc4i.apps.googleusercontent.com&redirect_uri=urn%3aietf%3awg%3aoauth%3a2.0%3aoob&response_type=code&scope=email%20https%3a%2f%2fwww.googleapis.com%2fauth%2fdocs.test%20https%3a%2f%2fwww.googleapis.com%2fauth%2fdrive%20https%3a%2f%2fwww.googleapis.com%2fauth%2fdrive.photos.readonly%20https%3a%2f%2fwww.googleapis.com%2fauth%2fpeopleapi.readonly\n",
            "\n",
            "Enter your authorization code:\n",
            "··········\n",
            "Mounted at /content/drive\n"
          ],
          "name": "stdout"
        }
      ]
    },
    {
      "cell_type": "code",
      "metadata": {
        "id": "oU-AHGOZK3Z8",
        "colab_type": "code",
        "colab": {
          "base_uri": "https://localhost:8080/",
          "height": 34
        },
        "outputId": "77a5e48b-df77-4f56-d6a6-8293dbbb8bd1"
      },
      "source": [
        "%cd '/content/drive/My Drive/Colab Notebooks'"
      ],
      "execution_count": null,
      "outputs": [
        {
          "output_type": "stream",
          "text": [
            "/content/drive/My Drive/Colab Notebooks\n"
          ],
          "name": "stdout"
        }
      ]
    },
    {
      "cell_type": "code",
      "metadata": {
        "id": "C52kMHk8KzNp",
        "colab_type": "code",
        "colab": {
          "base_uri": "https://localhost:8080/",
          "height": 170
        },
        "outputId": "9dafd9ac-09aa-49b2-f0d6-4834844868eb"
      },
      "source": [
        "!pip install import-ipynb"
      ],
      "execution_count": null,
      "outputs": [
        {
          "output_type": "stream",
          "text": [
            "Collecting import-ipynb\n",
            "  Downloading https://files.pythonhosted.org/packages/63/35/495e0021bfdcc924c7cdec4e9fbb87c88dd03b9b9b22419444dc370c8a45/import-ipynb-0.1.3.tar.gz\n",
            "Building wheels for collected packages: import-ipynb\n",
            "  Building wheel for import-ipynb (setup.py) ... \u001b[?25l\u001b[?25hdone\n",
            "  Created wheel for import-ipynb: filename=import_ipynb-0.1.3-cp36-none-any.whl size=2976 sha256=745b81d13ee0cbca1848e499c0d8951d10ce74ea54e14bba6b96fd596d5bb4a3\n",
            "  Stored in directory: /root/.cache/pip/wheels/b4/7b/e9/a3a6e496115dffdb4e3085d0ae39ffe8a814eacc44bbf494b5\n",
            "Successfully built import-ipynb\n",
            "Installing collected packages: import-ipynb\n",
            "Successfully installed import-ipynb-0.1.3\n"
          ],
          "name": "stdout"
        }
      ]
    },
    {
      "cell_type": "code",
      "metadata": {
        "id": "WKVr5Mf7KL03",
        "colab_type": "code",
        "colab": {
          "base_uri": "https://localhost:8080/",
          "height": 51
        },
        "outputId": "d8a15e5f-4e87-46c3-deff-26977e28f4b5"
      },
      "source": [
        "import import_ipynb\n",
        "import OurOwnFunctions"
      ],
      "execution_count": null,
      "outputs": [
        {
          "output_type": "stream",
          "text": [
            "importing Jupyter notebook from OurOwnFunctions.ipynb\n"
          ],
          "name": "stdout"
        },
        {
          "output_type": "stream",
          "text": [
            "Using TensorFlow backend.\n"
          ],
          "name": "stderr"
        }
      ]
    },
    {
      "cell_type": "markdown",
      "metadata": {
        "id": "4vPY53vEgi5_",
        "colab_type": "text"
      },
      "source": [
        "# Step 1. Cleaning and generating our dataset\n",
        "\n",
        "**(EXPLAIN WHAT DATASET WE SELECTED AND WHY)**\n",
        "\n",
        "The original dataset contained descriptions in several languages, we are interested only in the descriptions made in English. So, in the following code cells we will filter the dataset, saving only and exclusively the data in English.\n",
        "\n",
        "\n",
        "---\n",
        "\n",
        "\n",
        "**Problems found:**\n",
        "\n",
        "*  The dataset has different descriptions in the same language for the same video, we decided to use the first English description for each video. Maybe in the future different descriptions could be used for the same video.\n",
        "*  The dataset contains video names that do not match some of the video names we have. Therefore, we've removed those descriptions whose videos we didn't have.\n",
        "* Once filtered we realized that the internal 'index' of the dataSet was skipped, we needed to reset the index. \n",
        "\n",
        "\n",
        "---\n",
        "\n",
        "*  [`Unclean DataSet`](https://www.microsoft.com/en-us/download/details.aspx?id=52422&from=http%3A%2F%2Fresearch.microsoft.com%2Fen-us%2Fdownloads%2F38cf15fd-b8df-477e-a4e4-a4680caa75af%2Fdefault.aspx)\n",
        "\n",
        "\n",
        "\n"
      ]
    },
    {
      "cell_type": "code",
      "metadata": {
        "id": "VSbA9Si_1Ho8",
        "colab_type": "code",
        "colab": {}
      },
      "source": [
        "import pandas as pd\n",
        "import numpy as np"
      ],
      "execution_count": null,
      "outputs": []
    },
    {
      "cell_type": "code",
      "metadata": {
        "id": "BGIr4w4uitME",
        "colab_type": "code",
        "colab": {
          "base_uri": "https://localhost:8080/",
          "height": 207
        },
        "outputId": "3805e824-6a40-48db-a4cf-0beabe8bae4d"
      },
      "source": [
        "# --- Cleaning dataset.\n",
        "#   * Select only the English language rows.\n",
        "#   * Delete the following columns: [WorkerID, Language, Source]\n",
        "#   * Remove duplicated rows for the same [VideoId]\n",
        "#   * Create new column [VideoName] with following format: [VideoId_Start_End]\n",
        "\n",
        "csv_path = \"/content/drive/My Drive/DataSet.csv\"\n",
        "data = pd.read_csv(csv_path)\n",
        "\n",
        "dataSet = data[data['Language'] == 'English']\n",
        "dataSet = dataSet.drop(['WorkerID', 'Language', 'Source'], axis=1)\n",
        "dataSet = dataSet.drop_duplicates(['VideoID'])\n",
        "\n",
        "dataSet['VideoName'] = dataSet[['VideoID','Start','End']].apply(lambda row: '_'.join(row.values.astype(str)), axis=1)\n",
        "dataSet.head()"
      ],
      "execution_count": null,
      "outputs": [
        {
          "output_type": "execute_result",
          "data": {
            "text/html": [
              "<div>\n",
              "<style scoped>\n",
              "    .dataframe tbody tr th:only-of-type {\n",
              "        vertical-align: middle;\n",
              "    }\n",
              "\n",
              "    .dataframe tbody tr th {\n",
              "        vertical-align: top;\n",
              "    }\n",
              "\n",
              "    .dataframe thead th {\n",
              "        text-align: right;\n",
              "    }\n",
              "</style>\n",
              "<table border=\"1\" class=\"dataframe\">\n",
              "  <thead>\n",
              "    <tr style=\"text-align: right;\">\n",
              "      <th></th>\n",
              "      <th>VideoID</th>\n",
              "      <th>Start</th>\n",
              "      <th>End</th>\n",
              "      <th>AnnotationTime</th>\n",
              "      <th>Description</th>\n",
              "      <th>VideoName</th>\n",
              "    </tr>\n",
              "  </thead>\n",
              "  <tbody>\n",
              "    <tr>\n",
              "      <th>18</th>\n",
              "      <td>mv89psg6zh4</td>\n",
              "      <td>33</td>\n",
              "      <td>46</td>\n",
              "      <td>66</td>\n",
              "      <td>A bird in a sink keeps getting under the runni...</td>\n",
              "      <td>mv89psg6zh4_33_46</td>\n",
              "    </tr>\n",
              "    <tr>\n",
              "      <th>56</th>\n",
              "      <td>ZbzDGXEwtGc</td>\n",
              "      <td>6</td>\n",
              "      <td>15</td>\n",
              "      <td>24</td>\n",
              "      <td>a plane flying in the sky</td>\n",
              "      <td>ZbzDGXEwtGc_6_15</td>\n",
              "    </tr>\n",
              "    <tr>\n",
              "      <th>125</th>\n",
              "      <td>jbzaMtPYtl8</td>\n",
              "      <td>48</td>\n",
              "      <td>58</td>\n",
              "      <td>203</td>\n",
              "      <td>Two men are rolling huge tires sideways down a...</td>\n",
              "      <td>jbzaMtPYtl8_48_58</td>\n",
              "    </tr>\n",
              "    <tr>\n",
              "      <th>176</th>\n",
              "      <td>g36ho6UrBz0</td>\n",
              "      <td>5</td>\n",
              "      <td>20</td>\n",
              "      <td>28</td>\n",
              "      <td>a man playing a guitar outside his house</td>\n",
              "      <td>g36ho6UrBz0_5_20</td>\n",
              "    </tr>\n",
              "    <tr>\n",
              "      <th>251</th>\n",
              "      <td>04Gt01vatkk</td>\n",
              "      <td>248</td>\n",
              "      <td>265</td>\n",
              "      <td>33</td>\n",
              "      <td>A woman cuts an oion.</td>\n",
              "      <td>04Gt01vatkk_248_265</td>\n",
              "    </tr>\n",
              "  </tbody>\n",
              "</table>\n",
              "</div>"
            ],
            "text/plain": [
              "         VideoID  ...            VideoName\n",
              "18   mv89psg6zh4  ...    mv89psg6zh4_33_46\n",
              "56   ZbzDGXEwtGc  ...     ZbzDGXEwtGc_6_15\n",
              "125  jbzaMtPYtl8  ...    jbzaMtPYtl8_48_58\n",
              "176  g36ho6UrBz0  ...     g36ho6UrBz0_5_20\n",
              "251  04Gt01vatkk  ...  04Gt01vatkk_248_265\n",
              "\n",
              "[5 rows x 6 columns]"
            ]
          },
          "metadata": {
            "tags": []
          },
          "execution_count": 7
        }
      ]
    },
    {
      "cell_type": "code",
      "metadata": {
        "id": "faCtJUvxl64L",
        "colab_type": "code",
        "colab": {}
      },
      "source": [
        "import os\n",
        "\n",
        "# -- These filepaths will be used later.\n",
        "#     * Ipath: Filepath where we have all the videos.\n",
        "#     * Opath: Filepath where we will save the frames that will train the model.\n",
        "\n",
        "Ipath = '/content/drive/My Drive/vid/'\n",
        "Opath = '/content/drive/My Drive/out/'\n"
      ],
      "execution_count": null,
      "outputs": []
    },
    {
      "cell_type": "code",
      "metadata": {
        "id": "66c3Jk4yPFiw",
        "colab_type": "code",
        "colab": {
          "base_uri": "https://localhost:8080/",
          "height": 207
        },
        "outputId": "8dcdbb34-4a13-4204-e532-8b15627c170e"
      },
      "source": [
        "# --- Cleaning Dataset of non existing videos.\n",
        "#   * We check that the route of the video exist, generating a list of those that do not.\n",
        "#   * We delete the rows of non existing videos.\n",
        "#   * We clean the Dataset of unnecessary columns [VideoID, Start, End, AnnotationTime]\n",
        "#   * We save the new clean Dataset.\n",
        "\n",
        "\n",
        "# -- Get the name of the non existing videos.\n",
        "name_videosNOTexisting = [ nameV for nameV in dataSet['VideoName'] \n",
        "                             if not os.path.exists(Ipath + nameV + '.avi') ]\n",
        "\n",
        "# -- Remove rows of videos that do not exist.\n",
        "for videoName in name_videosNOTexisting:\n",
        "  dataSet.drop(dataSet[dataSet.VideoName == videoName].index , inplace=True)\n",
        "\n",
        "# -- Get the new dataset\n",
        "cleanDS = dataSet.drop(['VideoID', 'Start', 'End', 'AnnotationTime'], axis=1)\n",
        "cleanDS.reset_index(inplace=True, drop=True)\n",
        "cleanDS.head()\n",
        "\n",
        "# -- Save the new dataset\n",
        "cleanDS.to_csv('../dataSetLIMPIO.csv', index=False)\n",
        "cleanDS.head()"
      ],
      "execution_count": null,
      "outputs": [
        {
          "output_type": "execute_result",
          "data": {
            "text/html": [
              "<div>\n",
              "<style scoped>\n",
              "    .dataframe tbody tr th:only-of-type {\n",
              "        vertical-align: middle;\n",
              "    }\n",
              "\n",
              "    .dataframe tbody tr th {\n",
              "        vertical-align: top;\n",
              "    }\n",
              "\n",
              "    .dataframe thead th {\n",
              "        text-align: right;\n",
              "    }\n",
              "</style>\n",
              "<table border=\"1\" class=\"dataframe\">\n",
              "  <thead>\n",
              "    <tr style=\"text-align: right;\">\n",
              "      <th></th>\n",
              "      <th>Description</th>\n",
              "      <th>VideoName</th>\n",
              "    </tr>\n",
              "  </thead>\n",
              "  <tbody>\n",
              "    <tr>\n",
              "      <th>0</th>\n",
              "      <td>A bird in a sink keeps getting under the runni...</td>\n",
              "      <td>mv89psg6zh4_33_46</td>\n",
              "    </tr>\n",
              "    <tr>\n",
              "      <th>1</th>\n",
              "      <td>a plane flying in the sky</td>\n",
              "      <td>ZbzDGXEwtGc_6_15</td>\n",
              "    </tr>\n",
              "    <tr>\n",
              "      <th>2</th>\n",
              "      <td>Two men are rolling huge tires sideways down a...</td>\n",
              "      <td>jbzaMtPYtl8_48_58</td>\n",
              "    </tr>\n",
              "    <tr>\n",
              "      <th>3</th>\n",
              "      <td>a man playing a guitar outside his house</td>\n",
              "      <td>g36ho6UrBz0_5_20</td>\n",
              "    </tr>\n",
              "    <tr>\n",
              "      <th>4</th>\n",
              "      <td>A woman cuts an oion.</td>\n",
              "      <td>04Gt01vatkk_248_265</td>\n",
              "    </tr>\n",
              "  </tbody>\n",
              "</table>\n",
              "</div>"
            ],
            "text/plain": [
              "                                         Description            VideoName\n",
              "0  A bird in a sink keeps getting under the runni...    mv89psg6zh4_33_46\n",
              "1                          a plane flying in the sky     ZbzDGXEwtGc_6_15\n",
              "2  Two men are rolling huge tires sideways down a...    jbzaMtPYtl8_48_58\n",
              "3           a man playing a guitar outside his house     g36ho6UrBz0_5_20\n",
              "4                              A woman cuts an oion.  04Gt01vatkk_248_265"
            ]
          },
          "metadata": {
            "tags": []
          },
          "execution_count": 9
        }
      ]
    },
    {
      "cell_type": "code",
      "metadata": {
        "id": "Ny7ujaK2wuy0",
        "colab_type": "code",
        "colab": {}
      },
      "source": [
        "# -- We get the frames of each viedo. [ By default: 6 Frames (240x240) ]\n",
        "\n",
        "for videoID in cleanDS['VideoName']:\n",
        "  OurOwnFunctions.slice_video(videoID, Ipath, Opath)"
      ],
      "execution_count": null,
      "outputs": []
    },
    {
      "cell_type": "markdown",
      "metadata": {
        "id": "Adg8fI84HlM3",
        "colab_type": "text"
      },
      "source": [
        "\n",
        "\n",
        "*  [`Carpeta con los frames generados`](https://drive.google.com/drive/folders/1XaguYCixPiG6ZbvUZHlXqGEwkshOBeaa?usp=sharing)\n",
        "*   [`DataSet limpio` ](https://drive.google.com/file/d/1-6z_-IomuEKeCfTwUnPxtAwl9SmDZIwA/view?usp=sharing)\n",
        "\n",
        "\n",
        "\n",
        "\n"
      ]
    },
    {
      "cell_type": "markdown",
      "metadata": {
        "id": "45jQ4P3Y-kOA",
        "colab_type": "text"
      },
      "source": [
        "# Step 2. Model creation \n",
        "\n",
        "This will be the structure of our model:\n",
        "\n",
        "* First we'll analyze the sequence of video frames using VGG16 Model and a LSTM layer. This will produce two internal states vectors\n",
        "\n",
        "* This vectors will be given to the LSTM encoder along with the video description after being processed by the Embedding layer. \n",
        "\n",
        "* The ouput description will be one timestep ahead of the input description, this is because we want the model to predict next word.\n",
        "\n",
        "* The predicted word will be given in One-Hot encoding so in the last Dense layer we'll need as many neurons as words in our vocabulary.\n"
      ]
    },
    {
      "cell_type": "markdown",
      "metadata": {
        "id": "KWVjLZgnaxrU",
        "colab_type": "text"
      },
      "source": [
        "\n",
        "  ![image.png](data:image/png;base64,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)"
      ]
    },
    {
      "cell_type": "markdown",
      "metadata": {
        "id": "NouWFgBz2ly5",
        "colab_type": "text"
      },
      "source": [
        "## VGG Model\n",
        "\n",
        "To use a pre-trained model like VGG16 will help us to better analyze and process our frames. Also the main model will learn faster."
      ]
    },
    {
      "cell_type": "code",
      "metadata": {
        "id": "7pEhHyhw23FC",
        "colab_type": "code",
        "colab": {
          "base_uri": "https://localhost:8080/",
          "height": 51
        },
        "outputId": "bcfe4ac6-6bd4-4e1c-980b-67cc17a2eb9c"
      },
      "source": [
        "from tensorflow.keras.applications import vgg16\n",
        "\n",
        "def create_vgg16():  \n",
        "  model = vgg16.VGG16(include_top=True, \n",
        "                      weights=\"imagenet\", \n",
        "                      input_tensor=None, \n",
        "                      input_shape=None, \n",
        "                      pooling=None, \n",
        "                      classes=1000)\n",
        "                      #classifier_activation=\"softmax\")\n",
        "  return model\n",
        "\n",
        "vgg16_model = create_vgg16() "
      ],
      "execution_count": null,
      "outputs": [
        {
          "output_type": "stream",
          "text": [
            "Downloading data from https://storage.googleapis.com/tensorflow/keras-applications/vgg16/vgg16_weights_tf_dim_ordering_tf_kernels.h5\n",
            "553467904/553467096 [==============================] - 5s 0us/step\n"
          ],
          "name": "stdout"
        }
      ]
    },
    {
      "cell_type": "markdown",
      "metadata": {
        "id": "QOEPvWA4hOV-",
        "colab_type": "text"
      },
      "source": [
        "## Tokenizer creation\n",
        "\n",
        "In order to work better with the words we'll tokenize our descriptions.\n",
        "\n",
        "Besides, we'll add two special characters, one at beggining (BOS-Beginning of secuence) and one at the end (EOS-End of secuence) of each description, so the model can learn to predict the end of a secuence."
      ]
    },
    {
      "cell_type": "code",
      "metadata": {
        "id": "KrrDgqE5hjri",
        "colab_type": "code",
        "colab": {
          "base_uri": "https://localhost:8080/",
          "height": 34
        },
        "outputId": "a6bfd63f-3473-48ca-d311-47c9f774e51a"
      },
      "source": [
        "import pandas as pd\n",
        "from keras.preprocessing.text import Tokenizer\n",
        "\n",
        "data = pd.read_csv(\"/content/drive/My Drive/proyecto final/newcorpus.csv\")\n",
        "# data = pd.read_csv(\"../dataSetLIMPIO.csv\")\n",
        "\n",
        "n_descriptions = data.shape[0] #Number of descriptions we have\n",
        "clean_descriptions = []\n",
        "\n",
        "for i in range(n_descriptions):\n",
        "\n",
        "  clean_descriptions.append((str(\"BOS\") + str(\" \") + OurOwnFunctions.clean_text(data['Description'][i]) + str(\" \") + str(\"EOS\")))\n",
        "\n",
        "tokenizer = Tokenizer()\n",
        "tokenizer.fit_on_texts(clean_descriptions)\n",
        "word_index = tokenizer.word_index\n",
        "\n",
        "max_sentence_len = max([len(i.split()) for i in clean_descriptions])\n",
        "\n",
        "print(len(word_index), max_sentence_len)"
      ],
      "execution_count": null,
      "outputs": [
        {
          "output_type": "stream",
          "text": [
            "2059 42\n"
          ],
          "name": "stdout"
        }
      ]
    },
    {
      "cell_type": "markdown",
      "metadata": {
        "id": "J6IMyAWnj3zD",
        "colab_type": "text"
      },
      "source": [
        "## Embeddings\n",
        "\n",
        "To get a better word association we will use an embeddings layer"
      ]
    },
    {
      "cell_type": "code",
      "metadata": {
        "id": "xZhQDYdMjya-",
        "colab_type": "code",
        "colab": {
          "base_uri": "https://localhost:8080/",
          "height": 34
        },
        "outputId": "06e308cc-e46e-44eb-a283-9f05965b3ad7"
      },
      "source": [
        "#We will use the pre-trained model of GloVe embeddings, it can be downloaded at: https://nlp.stanford.edu/projects/glove/\n",
        "\n",
        "import os\n",
        "import numpy as np\n",
        "\n",
        "embeddings_index = {}\n",
        "f = open(os.path.join(\"/content/drive/My Drive/proyecto final/\", 'glove.6B.100d.txt'))\n",
        "for line in f:\n",
        "    values = line.split()\n",
        "    word = values[0]\n",
        "    coefs = np.asarray(values[1:], dtype='float32')\n",
        "    embeddings_index[word] = coefs\n",
        "f.close()\n",
        "\n",
        "print('Found %s word vectors.' % len(embeddings_index))"
      ],
      "execution_count": null,
      "outputs": [
        {
          "output_type": "stream",
          "text": [
            "Found 400000 word vectors.\n"
          ],
          "name": "stdout"
        }
      ]
    },
    {
      "cell_type": "code",
      "metadata": {
        "id": "fZz7c5vEkZvO",
        "colab_type": "code",
        "colab": {}
      },
      "source": [
        "#We create the embedding matrix for our vocabulary\n",
        "\n",
        "embedding_matrix = np.zeros((len(word_index) + 1, 100))\n",
        "for word, i in word_index.items():\n",
        "    embedding_vector = embeddings_index.get(word)\n",
        "    if embedding_vector is not None:\n",
        "        # words not found in embedding index will be all-zeros.\n",
        "        embedding_matrix[i] = embedding_vector"
      ],
      "execution_count": null,
      "outputs": []
    },
    {
      "cell_type": "code",
      "metadata": {
        "id": "Eh3cEZTlkkuf",
        "colab_type": "code",
        "colab": {}
      },
      "source": [
        "#Now we can create our Embeddings layer which we will include in our model\n",
        "\n",
        "import tensorflow as tf\n",
        "\n",
        "embedding_layer = tf.keras.layers.Embedding((len(word_index)+1),\n",
        "                            100,\n",
        "                            weights=[embedding_matrix],\n",
        "                            input_length=max_sentence_len, \n",
        "                            mask_zero = True,\n",
        "                            trainable=False)"
      ],
      "execution_count": null,
      "outputs": []
    },
    {
      "cell_type": "markdown",
      "metadata": {
        "id": "orKJUUDtl_3i",
        "colab_type": "text"
      },
      "source": [
        "## Model\n",
        "\n",
        "Now we can create and compile the main model"
      ]
    },
    {
      "cell_type": "code",
      "metadata": {
        "id": "qmM4eROMbjFh",
        "colab_type": "code",
        "colab": {
          "base_uri": "https://localhost:8080/",
          "height": 460
        },
        "outputId": "1bc71f5c-a8e2-4e37-b831-9c84e56c52cd"
      },
      "source": [
        "import tensorflow as tf\n",
        "\n",
        "from tensorflow.keras.layers import *\n",
        "from tensorflow.keras.models import *\n",
        "from tensorflow.keras.optimizers import *\n",
        "\n",
        "# --- Variables\n",
        "\n",
        "n_frames = 5\n",
        "height = 224 #(224, 224) because the VGG model is trained for this image size\n",
        "width = 224 \n",
        "learn = 0.00001\n",
        "n_lstm = 64 #Number of units of the LSTM layer, both LSTM layers must have same number because we'll connect the internal states vectors\n",
        "\n",
        "\n",
        "#Vectores ocultos LSTM https://www.quora.com/How-is-the-hidden-state-h-different-from-the-memory-c-in-an-LSTM-cell\n",
        "#Modelo: https://blog.keras.io/a-ten-minute-introduction-to-sequence-to-sequence-learning-in-keras.html\n",
        "\n",
        "base_model = Model(inputs=vgg16_model.input, outputs=vgg16_model.get_layer(\"flatten\").output)\n",
        "base_model.trainable = False #We won't train the VGG model\n",
        "encoder_inputs = Input((n_frames,224,224,3)) #Input size: secuence of frames\n",
        "x = TimeDistributed(base_model)(encoder_inputs) #Generar una secuencia temporal en la LSTM a partir del modelo VGG19\n",
        "lstm_out, lstm_h, lstm_c = LSTM(n_lstm, input_shape=(n_frames, 1), activation='tanh', return_state=True)(x)\n",
        "encoder_states = [lstm_h,lstm_c] \n",
        "\n",
        "''' Once the two hidden states (encoder_states) are concatenated in the same varaible, they will be used to \n",
        "inject it into the next LSTM layer and thus initialize it '''\n",
        "\n",
        "decoder_inputs = Input(shape=(max_sentence_len)) #Input size: Maximum number of words in a description\n",
        "\n",
        "decoder_Embedding = embedding_layer(decoder_inputs)\n",
        "\n",
        "\n",
        "'''LSTM para decodificar, input (descripción de los videos asignando a cada palabra un índice, es decir, un vector\n",
        "de entrada de tamaño 1 con el índice de la primera palabra de la descripción para iniciar la LSTM), \n",
        "initial_state(capa de salida del LSTM encoder, vectores ocultos, para empezar a decodificar la secuencia) y output\n",
        "(vector de salida con los indices de la descripción)'''\n",
        "\n",
        "# -- LSTM to decode, input (description of the videos by assigning each word an index, i.e. a vector\n",
        "#    * (The first word of the description is used to start the LSTM), \n",
        "#    * initial_state(LSTM encoder output layer, hidden vectors, to start decoding the sequence)\n",
        "\n",
        "\n",
        "decoder_lstm = LSTM(n_lstm, return_sequences=True, return_state=True, activation='tanh')  \n",
        "decoder_outputs, _, _ = decoder_lstm(decoder_Embedding, initial_state=encoder_states)\n",
        "\n",
        "dense = Dense(128,activation='relu')(decoder_outputs)\n",
        "dense = Dense(len(word_index)+1, activation='softmax')(dense)\n",
        "decoder_outputs = dense\n",
        "\n",
        "model = Model([encoder_inputs, decoder_inputs], decoder_outputs)\n",
        "model.compile(optimizer=Adam(lr=learn), loss='categorical_crossentropy', metrics=['acc'])\n",
        "model.summary()\n"
      ],
      "execution_count": null,
      "outputs": [
        {
          "output_type": "stream",
          "text": [
            "Model: \"model_1\"\n",
            "__________________________________________________________________________________________________\n",
            "Layer (type)                    Output Shape         Param #     Connected to                     \n",
            "==================================================================================================\n",
            "input_2 (InputLayer)            [(None, 5, 224, 224, 0                                            \n",
            "__________________________________________________________________________________________________\n",
            "input_3 (InputLayer)            [(None, 42)]         0                                            \n",
            "__________________________________________________________________________________________________\n",
            "time_distributed (TimeDistribut (None, 5, 25088)     14714688    input_2[0][0]                    \n",
            "__________________________________________________________________________________________________\n",
            "embedding (Embedding)           (None, 42, 100)      206000      input_3[0][0]                    \n",
            "__________________________________________________________________________________________________\n",
            "lstm (LSTM)                     [(None, 64), (None,  6439168     time_distributed[0][0]           \n",
            "__________________________________________________________________________________________________\n",
            "lstm_1 (LSTM)                   [(None, 42, 64), (No 42240       embedding[0][0]                  \n",
            "                                                                 lstm[0][1]                       \n",
            "                                                                 lstm[0][2]                       \n",
            "__________________________________________________________________________________________________\n",
            "dense (Dense)                   (None, 42, 128)      8320        lstm_1[0][0]                     \n",
            "__________________________________________________________________________________________________\n",
            "dense_1 (Dense)                 (None, 42, 2060)     265740      dense[0][0]                      \n",
            "==================================================================================================\n",
            "Total params: 21,676,156\n",
            "Trainable params: 6,755,468\n",
            "Non-trainable params: 14,920,688\n",
            "__________________________________________________________________________________________________\n"
          ],
          "name": "stdout"
        }
      ]
    },
    {
      "cell_type": "markdown",
      "metadata": {
        "id": "wAOJPRRDsC0B",
        "colab_type": "text"
      },
      "source": [
        "# Step 3. How to pass the data to the model\n",
        "\n",
        "We'll use generators to not overload the RAM memory"
      ]
    },
    {
      "cell_type": "markdown",
      "metadata": {
        "id": "DHiV7plamhVi",
        "colab_type": "text"
      },
      "source": [
        "## Install the Video-Generators library.\n",
        "\n",
        "This library will extract the frames from the videos."
      ]
    },
    {
      "cell_type": "code",
      "metadata": {
        "id": "Be95kEsQdWfB",
        "colab_type": "code",
        "colab": {
          "base_uri": "https://localhost:8080/",
          "height": 409
        },
        "outputId": "913597a5-dc83-4c07-922d-8ada32e98afb"
      },
      "source": [
        "pip install keras-video-generators"
      ],
      "execution_count": null,
      "outputs": [
        {
          "output_type": "stream",
          "text": [
            "Collecting keras-video-generators\n",
            "  Downloading https://files.pythonhosted.org/packages/d9/98/ff550be6084b0537f1340783a6850a2f2b62b87273472a56c17ed84bcdb3/keras-video-generators-1.0.14.tar.gz\n",
            "Requirement already satisfied: keras>=2 in /usr/local/lib/python3.6/dist-packages (from keras-video-generators) (2.3.1)\n",
            "Requirement already satisfied: numpy in /usr/local/lib/python3.6/dist-packages (from keras-video-generators) (1.18.5)\n",
            "Requirement already satisfied: opencv-python in /usr/local/lib/python3.6/dist-packages (from keras-video-generators) (4.1.2.30)\n",
            "Requirement already satisfied: matplotlib in /usr/local/lib/python3.6/dist-packages (from keras-video-generators) (3.2.2)\n",
            "Requirement already satisfied: keras-applications>=1.0.6 in /usr/local/lib/python3.6/dist-packages (from keras>=2->keras-video-generators) (1.0.8)\n",
            "Requirement already satisfied: keras-preprocessing>=1.0.5 in /usr/local/lib/python3.6/dist-packages (from keras>=2->keras-video-generators) (1.1.2)\n",
            "Requirement already satisfied: h5py in /usr/local/lib/python3.6/dist-packages (from keras>=2->keras-video-generators) (2.10.0)\n",
            "Requirement already satisfied: scipy>=0.14 in /usr/local/lib/python3.6/dist-packages (from keras>=2->keras-video-generators) (1.4.1)\n",
            "Requirement already satisfied: pyyaml in /usr/local/lib/python3.6/dist-packages (from keras>=2->keras-video-generators) (3.13)\n",
            "Requirement already satisfied: six>=1.9.0 in /usr/local/lib/python3.6/dist-packages (from keras>=2->keras-video-generators) (1.12.0)\n",
            "Requirement already satisfied: kiwisolver>=1.0.1 in /usr/local/lib/python3.6/dist-packages (from matplotlib->keras-video-generators) (1.2.0)\n",
            "Requirement already satisfied: pyparsing!=2.0.4,!=2.1.2,!=2.1.6,>=2.0.1 in /usr/local/lib/python3.6/dist-packages (from matplotlib->keras-video-generators) (2.4.7)\n",
            "Requirement already satisfied: cycler>=0.10 in /usr/local/lib/python3.6/dist-packages (from matplotlib->keras-video-generators) (0.10.0)\n",
            "Requirement already satisfied: python-dateutil>=2.1 in /usr/local/lib/python3.6/dist-packages (from matplotlib->keras-video-generators) (2.8.1)\n",
            "Building wheels for collected packages: keras-video-generators\n",
            "  Building wheel for keras-video-generators (setup.py) ... \u001b[?25l\u001b[?25hdone\n",
            "  Created wheel for keras-video-generators: filename=keras_video_generators-1.0.14-cp36-none-any.whl size=12883 sha256=dd867aa77b549bbd510c9dff46028327d3b8575eae8cef2d37acda143a6282f3\n",
            "  Stored in directory: /root/.cache/pip/wheels/20/b7/76/8674d46fc4777c09e5aa7b065d4e356d90f12ec409a6144bbb\n",
            "Successfully built keras-video-generators\n",
            "Installing collected packages: keras-video-generators\n",
            "Successfully installed keras-video-generators-1.0.14\n"
          ],
          "name": "stdout"
        }
      ]
    },
    {
      "cell_type": "markdown",
      "metadata": {
        "id": "BxTwKdQnmSWW",
        "colab_type": "text"
      },
      "source": [
        "## VideoGenerator\n",
        "\n",
        "We will create 3 generators, for train, validation and test."
      ]
    },
    {
      "cell_type": "code",
      "metadata": {
        "id": "1Gw34Y5PfUXh",
        "colab_type": "code",
        "colab": {
          "base_uri": "https://localhost:8080/",
          "height": 85
        },
        "outputId": "6fff995b-179a-4286-a494-7eea7beb8076"
      },
      "source": [
        "import os\n",
        "import glob\n",
        "import keras\n",
        "from keras_video import VideoFrameGenerator\n",
        "\n",
        "import pandas as pd\n",
        "import numpy as np\n",
        "\n",
        "# Some generator parameters\n",
        "SIZE = (height, width)\n",
        "CHANNELS = 3\n",
        "NBFRAME = n_frames\n",
        "BS = 1\n",
        "\n",
        "classes=['videos']\n",
        "\n",
        "glob_pattern='/content/drive/My Drive/proyecto final/{classname}/*.avi'\n",
        "\n",
        "# Create video frame generator\n",
        "train = VideoFrameGenerator(\n",
        "    glob_pattern=glob_pattern,\n",
        "    classes = classes,\n",
        "    nb_frames=NBFRAME,\n",
        "    split_test=.3, \n",
        "    split_val=.3,\n",
        "    shuffle=False,\n",
        "    batch_size=BS,\n",
        "    target_shape=SIZE,\n",
        "    nb_channel=CHANNELS,\n",
        "    use_frame_cache=False)\n",
        "\n",
        "valid = train.get_validation_generator()\n",
        "\n",
        "test = train.get_test_generator()\n"
      ],
      "execution_count": null,
      "outputs": [
        {
          "output_type": "stream",
          "text": [
            "class videos, validation count: 447, test count: 313, train count: 731\n",
            "Total data: 1 classes for 731 files for train\n",
            "Total data: 1 classes for 447 files for validation\n",
            "Total data: 1 classes for 313 files for test\n"
          ],
          "name": "stdout"
        }
      ]
    },
    {
      "cell_type": "markdown",
      "metadata": {
        "id": "77TH2QvKmwSN",
        "colab_type": "text"
      },
      "source": [
        "## Generadores Custom\n",
        "\n",
        "Video-generators only give us the frames, we need to create new generators in order to give the model the frames and also their descriptions.\n",
        "\n",
        "\n",
        "The ouput descriptions have to be one timestep ahead so that the model learns to predict the next word. To make the dimensions fit, a 0 is added at the end of each description."
      ]
    },
    {
      "cell_type": "code",
      "metadata": {
        "id": "yiKwonYLbyZ4",
        "colab_type": "code",
        "colab": {}
      },
      "source": [
        "from keras_video.utils import *\n",
        "from keras.utils import to_categorical\n",
        "\n",
        "\n",
        "data = pd.read_csv(\"/content/drive/My Drive/proyecto final/newcorpus.csv\").values\n",
        "\n",
        "#--- Here we get the names of videos used by each generator\n",
        "\n",
        "train_ids = [os.path.basename(path).split('.')[0] for path in train.files]\n",
        "validation_ids = [os.path.basename(path).split('.')[0] for path in valid.files]\n",
        "\n",
        "\n",
        "def train_generador(train_ids, train, data, tokenizer):\n",
        "\n",
        "  #-- First we need to obtain the descriptions from the given video names\n",
        "  Y_train = []\n",
        "  for i in range(len(train_ids)):\n",
        "    for j in range(n_descriptions):\n",
        "      if train_ids[i] == data[j, 6]:\n",
        "        Y_train.append(clean_descriptions[j])\n",
        "\n",
        "  Y_train = OurOwnFunctions.padding(tokenizer.texts_to_sequences(Y_train), max_sentence_len)\n",
        "  Y_train = np.asarray(Y_train)\n",
        "  Y_train = Y_train[None,:]\n",
        "\n",
        "  i = 0\n",
        "  train.next()[0]\n",
        "  while 1:\n",
        "    train_images = train.next()[0]/255.\n",
        "    i +=1\n",
        "    yield [train_images, Y_train[:,i,:max_sentence_len]], to_categorical(Y_train[:,i,1:], num_classes=len(word_index)+1)\n",
        "    if i == (train.files_count-1):\n",
        "      i=0\n",
        "\n",
        "\n",
        "def validation_generador(validation_ids, valid, data, tokenizer):\n",
        "\n",
        "  Y_validation = []\n",
        "  for i in range(len(validation_ids)):\n",
        "    for j in range(n_descriptions):  \n",
        "      if validation_ids[i] == data[j, 6]:\n",
        "        Y_validation.append(clean_descriptions[j])\n",
        "\n",
        "  Y_validation = OurOwnFunctions.padding(tokenizer.texts_to_sequences(Y_validation), max_sentence_len)\n",
        "  Y_validation = np.asarray(Y_validation)\n",
        "  Y_validation = Y_validation[None,:]\n",
        "\n",
        "  i = 0\n",
        "  valid.next()[0]\n",
        "  while 1:\n",
        "    validation_images = valid.next()[0]/255\n",
        "    i+=1\n",
        "    yield [validation_images, Y_validation[:,i,:max_sentence_len]],to_categorical(Y_validation[:,i,1:], num_classes=len(word_index)+1)\n",
        "    if i==(valid.files_count-1):\n",
        "      i=0\n",
        "\n",
        "traingen = train_generador(train_ids, train, data, tokenizer)\n",
        "validgen = validation_generador(validation_ids,valid,data, tokenizer)"
      ],
      "execution_count": null,
      "outputs": []
    },
    {
      "cell_type": "markdown",
      "metadata": {
        "id": "aU60eilhsrq1",
        "colab_type": "text"
      },
      "source": [
        "# Step 4. Training"
      ]
    },
    {
      "cell_type": "code",
      "metadata": {
        "id": "bK9j49U4JggH",
        "colab_type": "code",
        "colab": {}
      },
      "source": [
        "#We can save the model each epoch\n",
        "\n",
        "checkpoint_callback = tf.keras.callbacks.ModelCheckpoint(\n",
        "    filepath=\"/content/drive/My Drive/Modelo87/Checkpoints/\",\n",
        "    save_weights_only=False,\n",
        "    monitor='val_loss',\n",
        "    verbose=0,\n",
        "    mode='min',\n",
        "    save_best_only=True)"
      ],
      "execution_count": null,
      "outputs": []
    },
    {
      "cell_type": "code",
      "metadata": {
        "id": "qhBS-EqUb2iE",
        "colab_type": "code",
        "colab": {
          "base_uri": "https://localhost:8080/",
          "height": 187
        },
        "outputId": "28ac0a21-36dc-400d-cd75-d8d62643de37"
      },
      "source": [
        "'''\n",
        "For the frames generated by the custom generators to be synchronized with the descriptions, \n",
        "it is necessary to declare the generators each time they are used \n",
        "'''\n",
        "#COMPROBAR SI VALE SOLO CON DECLARAR TRAINGEN Y VALIDGEN\n",
        "train = VideoFrameGenerator(\n",
        "    glob_pattern=glob_pattern,\n",
        "    classes = classes,\n",
        "    nb_frames=NBFRAME,\n",
        "    split_test=.3, \n",
        "    split_val=.3,\n",
        "    shuffle=False,\n",
        "    batch_size=BS,\n",
        "    target_shape=SIZE,\n",
        "    nb_channel=CHANNELS,\n",
        "    use_frame_cache=False)\n",
        "\n",
        "valid = train.get_validation_generator()\n",
        "\n",
        "train_ids = [os.path.basename(path).split('.')[0] for path in train.files]\n",
        "validation_ids = [os.path.basename(path).split('.')[0] for path in valid.files]\n",
        "\n",
        "traingen = train_generador(train_ids, train, data, tokenizer)\n",
        "validgen = validation_generador(validation_ids,valid,data, tokenizer)\n",
        "\n",
        "\n",
        "# model.fit_generator(generator=traingen, validation_data=validgen, steps_per_epoch=(train.files_count-1), validation_steps=(valid.files_count-1), epochs=30, callbacks=[checkpoint_callback])\n",
        "model.fit_generator(generator=traingen, validation_data=validgen, steps_per_epoch=3, validation_steps=2, epochs=3)"
      ],
      "execution_count": null,
      "outputs": [
        {
          "output_type": "stream",
          "text": [
            "class videos, validation count: 447, test count: 313, train count: 731\n",
            "Total data: 1 classes for 731 files for train\n",
            "Total data: 1 classes for 447 files for validation\n",
            "Epoch 1/3\n",
            "3/3 [==============================] - 4s 1s/step - loss: 1.5105 - acc: 0.8016 - val_loss: 1.7240 - val_acc: 0.7738\n",
            "Epoch 2/3\n",
            "3/3 [==============================] - 8s 3s/step - loss: 2.4176 - acc: 0.6825 - val_loss: 1.4553 - val_acc: 0.8095\n",
            "Epoch 3/3\n",
            "3/3 [==============================] - 7s 2s/step - loss: 1.8800 - acc: 0.5476 - val_loss: 1.3635 - val_acc: 0.0000e+00\n"
          ],
          "name": "stdout"
        },
        {
          "output_type": "execute_result",
          "data": {
            "text/plain": [
              "<tensorflow.python.keras.callbacks.History at 0x7f3fe9472b70>"
            ]
          },
          "metadata": {
            "tags": []
          },
          "execution_count": 17
        }
      ]
    },
    {
      "cell_type": "markdown",
      "metadata": {
        "id": "F3aq8rixoGVR",
        "colab_type": "text"
      },
      "source": [
        "## Saving the model"
      ]
    },
    {
      "cell_type": "code",
      "metadata": {
        "id": "Oko-_-F8nZVE",
        "colab_type": "code",
        "colab": {}
      },
      "source": [
        "model_path = \"/content/drive/My Drive/Modelo2.h5\"\n",
        "model.save(model_path)"
      ],
      "execution_count": null,
      "outputs": []
    },
    {
      "cell_type": "markdown",
      "metadata": {
        "id": "ZOHUCj-snRfu",
        "colab_type": "text"
      },
      "source": [
        "# Step 5. Let's predict!"
      ]
    },
    {
      "cell_type": "markdown",
      "metadata": {
        "id": "JZA-FC1stvpd",
        "colab_type": "text"
      },
      "source": [
        "## Loading a model"
      ]
    },
    {
      "cell_type": "code",
      "metadata": {
        "id": "B_xRBYZXuFN0",
        "colab_type": "code",
        "colab": {}
      },
      "source": [
        "import tensorflow as tf\n",
        "\n",
        "from tensorflow.keras.applications import vgg16\n",
        "from tensorflow.keras.layers import *\n",
        "from tensorflow.keras.models import *\n",
        "from tensorflow.keras.optimizers import *\n",
        "import numpy as np\n",
        "\n",
        "model = tf.keras.models.load_model(\"/content/drive/My Drive/Copy of Adadelta.h5\")\n",
        "\n",
        "model.summary()"
      ],
      "execution_count": null,
      "outputs": []
    },
    {
      "cell_type": "markdown",
      "metadata": {
        "id": "dqOD0eN2mbSM",
        "colab_type": "text"
      },
      "source": [
        "## Encoder y Decoder\n",
        "\n",
        "To make predictions we will need to create two sub-models from the main one."
      ]
    },
    {
      "cell_type": "markdown",
      "metadata": {
        "id": "j2fzSQ-CmsQf",
        "colab_type": "text"
      },
      "source": [
        "**Encoder**\n",
        "\n",
        "This sub-model gets the internal states vector after encoding the image sequence"
      ]
    },
    {
      "cell_type": "code",
      "metadata": {
        "id": "s4KUhmXFmdqH",
        "colab_type": "code",
        "colab": {
          "base_uri": "https://localhost:8080/",
          "height": 256
        },
        "outputId": "4bfafcd4-845a-4d47-a659-4d78ea3b9be5"
      },
      "source": [
        "encoder_model = Model(model.layers[0].input, [model.layers[4].output[1], model.layers[4].output[2]])\n",
        "encoder_model.summary()"
      ],
      "execution_count": null,
      "outputs": [
        {
          "output_type": "stream",
          "text": [
            "Model: \"model_2\"\n",
            "_________________________________________________________________\n",
            "Layer (type)                 Output Shape              Param #   \n",
            "=================================================================\n",
            "input_2 (InputLayer)         [(None, 5, 224, 224, 3)]  0         \n",
            "_________________________________________________________________\n",
            "time_distributed (TimeDistri (None, 5, 25088)          14714688  \n",
            "_________________________________________________________________\n",
            "lstm (LSTM)                  [(None, 64), (None, 64),  6439168   \n",
            "=================================================================\n",
            "Total params: 21,153,856\n",
            "Trainable params: 6,439,168\n",
            "Non-trainable params: 14,714,688\n",
            "_________________________________________________________________\n"
          ],
          "name": "stdout"
        }
      ]
    },
    {
      "cell_type": "markdown",
      "metadata": {
        "id": "KB0x6T8dmveX",
        "colab_type": "text"
      },
      "source": [
        "**Decoder**\n",
        "\n",
        "This sub-model will predict the next word of the one we give as an imput.\n",
        "\n",
        "As input it'll have the states vector given by the encoder model and a word."
      ]
    },
    {
      "cell_type": "code",
      "metadata": {
        "id": "Pn5kyp8vm2BO",
        "colab_type": "code",
        "colab": {
          "base_uri": "https://localhost:8080/",
          "height": 426
        },
        "outputId": "f25843a6-3db9-43a4-c11d-440073689033"
      },
      "source": [
        "decoder_states_inputs =  [Input(shape=(n_lstm,)), Input(shape=(n_lstm,))]\n",
        "\n",
        "decoder_outputs, state_h, state_c = model.layers[5](model.layers[3](model.input[1]), initial_state= decoder_states_inputs)\n",
        "\n",
        "dense = model.layers[6](decoder_outputs)\n",
        "decoder_outputs = model.layers[7](dense)\n",
        "\n",
        "decoder_model = Model([model.layers[1].input] + decoder_states_inputs, \n",
        "                  [decoder_outputs] + [state_h, state_c])\n",
        "decoder_model.summary()"
      ],
      "execution_count": null,
      "outputs": [
        {
          "output_type": "stream",
          "text": [
            "Model: \"model_3\"\n",
            "__________________________________________________________________________________________________\n",
            "Layer (type)                    Output Shape         Param #     Connected to                     \n",
            "==================================================================================================\n",
            "input_3 (InputLayer)            [(None, 42)]         0                                            \n",
            "__________________________________________________________________________________________________\n",
            "embedding (Embedding)           (None, 42, 100)      206000      input_3[0][0]                    \n",
            "__________________________________________________________________________________________________\n",
            "input_4 (InputLayer)            [(None, 64)]         0                                            \n",
            "__________________________________________________________________________________________________\n",
            "input_5 (InputLayer)            [(None, 64)]         0                                            \n",
            "__________________________________________________________________________________________________\n",
            "lstm_1 (LSTM)                   [(None, 42, 64), (No 42240       embedding[1][0]                  \n",
            "                                                                 input_4[0][0]                    \n",
            "                                                                 input_5[0][0]                    \n",
            "__________________________________________________________________________________________________\n",
            "dense (Dense)                   (None, 42, 128)      8320        lstm_1[1][0]                     \n",
            "__________________________________________________________________________________________________\n",
            "dense_1 (Dense)                 (None, 42, 2060)     265740      dense[1][0]                      \n",
            "==================================================================================================\n",
            "Total params: 522,300\n",
            "Trainable params: 316,300\n",
            "Non-trainable params: 206,000\n",
            "__________________________________________________________________________________________________\n"
          ],
          "name": "stdout"
        }
      ]
    },
    {
      "cell_type": "markdown",
      "metadata": {
        "id": "wNSITpznunIv",
        "colab_type": "text"
      },
      "source": [
        "## Predictions"
      ]
    },
    {
      "cell_type": "code",
      "metadata": {
        "id": "OZOSNWVdxjze",
        "colab_type": "code",
        "colab": {
          "base_uri": "https://localhost:8080/",
          "height": 34
        },
        "outputId": "7d1f82b0-ba3f-47b6-cda8-adf0ab307da6"
      },
      "source": [
        "#--- This new generator will give us a sequence of frames and their description\n",
        "\n",
        "def test_generador(test_ids, test, data, tokenizer):\n",
        "\n",
        "  Y_test = []\n",
        "  for i in range(len(test_ids)):\n",
        "    for j in range(n_descriptions):  \n",
        "      if test_ids[i] == data[j, 6]:\n",
        "        Y_test.append(clean_descriptions[j])\n",
        "\n",
        "  i = 0\n",
        "  test.next()[0]\n",
        "  while 1:\n",
        "    test_images = test.next()[0]/255\n",
        "    i+=1\n",
        "    yield test_images, Y_test[i]\n",
        "    if i==(test.files_count-1):\n",
        "      i=0\n",
        "\n",
        "data = pd.read_csv(\"/content/drive/My Drive/proyecto final/newcorpus.csv\").values\n",
        "test = train.get_test_generator()\n",
        "test_ids = [os.path.basename(path).split('.')[0] for path in test.files]\n",
        "testgen = test_generador(test_ids, test, data, tokenizer)"
      ],
      "execution_count": null,
      "outputs": [
        {
          "output_type": "stream",
          "text": [
            "Total data: 1 classes for 313 files for test\n"
          ],
          "name": "stdout"
        }
      ]
    },
    {
      "cell_type": "code",
      "metadata": {
        "id": "LEAvJmJ4b6Zq",
        "colab_type": "code",
        "colab": {
          "base_uri": "https://localhost:8080/",
          "height": 232
        },
        "outputId": "caa8d727-d01d-449b-ef32-bc955751dbc9"
      },
      "source": [
        "n = next(testgen)\n",
        "imgs = n[0]\n",
        "description = n[1]\n",
        "\n",
        "secuence = OurOwnFunctions.decode_sequence(imgs, encoder_model, decoder_model, max_sentence_len)\n",
        "p = OurOwnFunctions.int2str(secuence, tokenizer)\n",
        "\n",
        "print(\"----------\")\n",
        "print(\"Original description: \")\n",
        "print(n[1])\n",
        "print(\"Model description: \")\n",
        "print(p)\n",
        "\n",
        "fig, axs = plt.subplots(1, n_frames, figsize=(10,5))\n",
        "\n",
        "for j in range(n_frames):\n",
        "  axs[j].imshow(imgs[0,j]*255)\n",
        "  axs[j].axis('off')"
      ],
      "execution_count": null,
      "outputs": [
        {
          "output_type": "stream",
          "text": [
            "----------\n",
            "Original description: \n",
            "BOS a hamster is eating off the ground EOS\n",
            "Model description: \n",
            "['crying squeezing squeezing thinly motorized sweeping sweeping sweeping sweeping sweeping sweeping sweeping sweeping sweeping sweeping sweeping sweeping sweeping sweeping sweeping sweeping sweeping sweeping sweeping sweeping sweeping sweeping sweeping dark dark dark dark dark choir choir choir choir rifles smoking smoking bubbles vegetablelooking vegetablelooking']\n"
          ],
          "name": "stdout"
        },
        {
          "output_type": "display_data",
          "data": {
            "image/png": "[encoded data removed]",
            "text/plain": [
              "<Figure size 720x360 with 5 Axes>"
            ]
          },
          "metadata": {
            "tags": [],
            "needs_background": "light"
          }
        }
      ]
    }
  ]
}